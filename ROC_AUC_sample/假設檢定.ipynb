{
  "nbformat": 4,
  "nbformat_minor": 0,
  "metadata": {
    "kernelspec": {
      "display_name": "Python 3",
      "language": "python",
      "name": "python3"
    },
    "language_info": {
      "codemirror_mode": {
        "name": "ipython",
        "version": 3
      },
      "file_extension": ".py",
      "mimetype": "text/x-python",
      "name": "python",
      "nbconvert_exporter": "python",
      "pygments_lexer": "ipython3",
      "version": "3.6.8"
    },
    "colab": {
      "name": "假設檢定.ipynb",
      "provenance": [],
      "include_colab_link": true
    }
  },
  "cells": [
    {
      "cell_type": "markdown",
      "metadata": {
        "id": "view-in-github",
        "colab_type": "text"
      },
      "source": [
        "<a href=\"https://colab.research.google.com/github/rerebebeccacca/Recommend_system20210713/blob/main/%E5%81%87%E8%A8%AD%E6%AA%A2%E5%AE%9A.ipynb\" target=\"_parent\"><img src=\"https://colab.research.google.com/assets/colab-badge.svg\" alt=\"Open In Colab\"/></a>"
      ]
    },
    {
      "cell_type": "code",
      "metadata": {
        "id": "9O4VOH-EJQhM",
        "outputId": "4e7acde9-4adb-4407-e8f4-cc07ffaab8d8"
      },
      "source": [
        "%matplotlib inline\n",
        "import numpy as np\n",
        "import matplotlib.pyplot as plt\n",
        "from scipy import stats\n",
        "\n",
        "# 隨機產生『控制組』(Control Group)、『干預組』(Intervention Group) 樣本\n",
        "np.random.seed(123)\n",
        "control_group = np.random.normal(59.45, 1.5, 100)\n",
        "intervention_group = np.random.normal(60.05, 1.5, 100)\n",
        "\n",
        "# ttest_rel 預設為雙尾假定\n",
        "t,p = stats.ttest_rel(intervention_group, control_group)\n",
        "# p值要減半，變成單尾假定\n",
        "p1 = '%f' % (p/2)\n",
        "print(\"t-statistic:\" + str(t))\n",
        "print(\"p-value:\" + str(p1))\n",
        "\n",
        "# 繪圖\n",
        "pop = np.random.normal(control_group.mean(), control_group.std(), 100000)\n",
        "# calculate a 90% confidence interval. 10% of the probability is outside this, 5% in each tail\n",
        "ci = stats.norm.interval(0.95, control_group.mean(), control_group.std())\n",
        "plt.hist(pop, bins=100)\n",
        "# show the hypothesized population mean\n",
        "plt.axvline(pop.mean(), color='yellow', linestyle='dashed', linewidth=2)\n",
        "# show the right-tail confidence interval threshold - 5% of propbability is under the curve to the right of this.\n",
        "plt.axvline(ci[1], color='red', linestyle='dashed', linewidth=2)\n",
        "# show the t-statistic - the p-value is the area under the curve to the right of this\n",
        "plt.axvline(pop.mean() + t*pop.std(), color='green', linestyle='dashed', linewidth=2)\n",
        "plt.show()"
      ],
      "execution_count": null,
      "outputs": [
        {
          "output_type": "stream",
          "text": [
            "t-statistic:2.3406857739212583\n",
            "p-value:0.010627\n"
          ],
          "name": "stdout"
        },
        {
          "output_type": "display_data",
          "data": {
            "image/png": "[encoded data removed]",
            "text/plain": [
              "<Figure size 432x288 with 1 Axes>"
            ]
          },
          "metadata": {
            "tags": [],
            "needs_background": "light"
          }
        }
      ]
    },
    {
      "cell_type": "code",
      "metadata": {
        "id": "QOvqmC79JQhR"
      },
      "source": [
        ""
      ],
      "execution_count": null,
      "outputs": []
    }
  ]
}

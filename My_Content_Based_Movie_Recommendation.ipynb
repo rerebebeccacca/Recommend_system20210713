{
  "nbformat": 4,
  "nbformat_minor": 0,
  "metadata": {
    "kernelspec": {
      "display_name": "Python 3",
      "language": "python",
      "name": "python3"
    },
    "language_info": {
      "codemirror_mode": {
        "name": "ipython",
        "version": 3
      },
      "file_extension": ".py",
      "mimetype": "text/x-python",
      "name": "python",
      "nbconvert_exporter": "python",
      "pygments_lexer": "ipython3",
      "version": "3.6.8"
    },
    "colab": {
      "name": "My Content-Based Movie Recommendation.ipynb",
      "provenance": [],
      "include_colab_link": true
    },
    "accelerator": "GPU"
  },
  "cells": [
    {
      "cell_type": "markdown",
      "metadata": {
        "id": "view-in-github",
        "colab_type": "text"
      },
      "source": [
        "<a href=\"https://colab.research.google.com/github/rerebebeccacca/recommend_system20210713/blob/main/My_Content_Based_Movie_Recommendation.ipynb\" target=\"_parent\"><img src=\"https://colab.research.google.com/assets/colab-badge.svg\" alt=\"Open In Colab\"/></a>"
      ]
    },
    {
      "cell_type": "markdown",
      "metadata": {
        "id": "hHP3u96n9Xq8"
      },
      "source": [
        "# Content-Based Movie Recommendation\n",
        "https://www.kaggle.com/annalee7/content-based-movie-recommendation-engine"
      ]
    },
    {
      "cell_type": "markdown",
      "metadata": {
        "id": "yLanrM8k9XrD"
      },
      "source": [
        "## 安裝自然語言處理的套件"
      ]
    },
    {
      "cell_type": "code",
      "metadata": {
        "id": "sB2NG4e69XrF",
        "colab": {
          "base_uri": "https://localhost:8080/"
        },
        "outputId": "dcec0a9b-09ef-410d-8c8b-01522dd4f0ca"
      },
      "source": [
        "! pip install rake_nltk"
      ],
      "execution_count": null,
      "outputs": [
        {
          "output_type": "stream",
          "text": [
            "Collecting rake_nltk\n",
            "  Downloading https://files.pythonhosted.org/packages/8e/c4/b4ff57e541ac5624ad4b20b89c2bafd4e98f29fd83139f3a81858bdb3815/rake_nltk-1.0.4.tar.gz\n",
            "Requirement already satisfied: nltk in /usr/local/lib/python3.7/dist-packages (from rake_nltk) (3.2.5)\n",
            "Requirement already satisfied: six in /usr/local/lib/python3.7/dist-packages (from nltk->rake_nltk) (1.15.0)\n",
            "Building wheels for collected packages: rake-nltk\n",
            "  Building wheel for rake-nltk (setup.py) ... \u001b[?25l\u001b[?25hdone\n",
            "  Created wheel for rake-nltk: filename=rake_nltk-1.0.4-py2.py3-none-any.whl size=7829 sha256=11a068b76b7871dbf1f8752e090f25c4840de928147f731f64332ab7822e99c2\n",
            "  Stored in directory: /root/.cache/pip/wheels/ef/92/fc/271b3709e71a96ffe934b27818946b795ac6b9b8ff8682483f\n",
            "Successfully built rake-nltk\n",
            "Installing collected packages: rake-nltk\n",
            "Successfully installed rake-nltk-1.0.4\n"
          ],
          "name": "stdout"
        }
      ]
    },
    {
      "cell_type": "code",
      "metadata": {
        "id": "j3xVMbRs9XrF"
      },
      "source": [
        "import pandas as pd\n",
        "import numpy as np\n",
        "from rake_nltk import Rake\n",
        "\n",
        "from sklearn.metrics.pairwise import cosine_similarity\n",
        "from sklearn.feature_extraction.text import CountVectorizer\n",
        "\n",
        "from ast import literal_eval"
      ],
      "execution_count": null,
      "outputs": []
    },
    {
      "cell_type": "markdown",
      "metadata": {
        "id": "5eWI2zFd9XrG"
      },
      "source": [
        "## 合併兩個檔案"
      ]
    },
    {
      "cell_type": "code",
      "metadata": {
        "id": "tI9JpIJE9XrH",
        "colab": {
          "base_uri": "https://localhost:8080/",
          "height": 546
        },
        "outputId": "58d4dff9-1ea5-4f87-f78d-0d5a0735803c"
      },
      "source": [
        "movies = pd.read_csv('./tmdb_5000_movies.csv')\n",
        "credits = pd.read_csv('./tmdb_5000_credits.csv')\n",
        "\n",
        "# Join datasets\n",
        "credits.columns = ['id', 'title', 'cast', 'crew']\n",
        "\n",
        "alldata = movies.merge(credits, on = 'id')\n",
        "alldata.head()"
      ],
      "execution_count": null,
      "outputs": [
        {
          "output_type": "error",
          "ename": "ParserError",
          "evalue": "ignored",
          "traceback": [
            "\u001b[0;31m---------------------------------------------------------------------------\u001b[0m",
            "\u001b[0;31mParserError\u001b[0m                               Traceback (most recent call last)",
            "\u001b[0;32m<ipython-input-6-681ca8699bae>\u001b[0m in \u001b[0;36m<module>\u001b[0;34m()\u001b[0m\n\u001b[1;32m      1\u001b[0m \u001b[0mmovies\u001b[0m \u001b[0;34m=\u001b[0m \u001b[0mpd\u001b[0m\u001b[0;34m.\u001b[0m\u001b[0mread_csv\u001b[0m\u001b[0;34m(\u001b[0m\u001b[0;34m'./tmdb_5000_movies.csv'\u001b[0m\u001b[0;34m)\u001b[0m\u001b[0;34m\u001b[0m\u001b[0;34m\u001b[0m\u001b[0m\n\u001b[0;32m----> 2\u001b[0;31m \u001b[0mcredits\u001b[0m \u001b[0;34m=\u001b[0m \u001b[0mpd\u001b[0m\u001b[0;34m.\u001b[0m\u001b[0mread_csv\u001b[0m\u001b[0;34m(\u001b[0m\u001b[0;34m'./tmdb_5000_credits.csv'\u001b[0m\u001b[0;34m)\u001b[0m\u001b[0;34m\u001b[0m\u001b[0;34m\u001b[0m\u001b[0m\n\u001b[0m\u001b[1;32m      3\u001b[0m \u001b[0;34m\u001b[0m\u001b[0m\n\u001b[1;32m      4\u001b[0m \u001b[0;31m# Join datasets\u001b[0m\u001b[0;34m\u001b[0m\u001b[0;34m\u001b[0m\u001b[0;34m\u001b[0m\u001b[0m\n\u001b[1;32m      5\u001b[0m \u001b[0mcredits\u001b[0m\u001b[0;34m.\u001b[0m\u001b[0mcolumns\u001b[0m \u001b[0;34m=\u001b[0m \u001b[0;34m[\u001b[0m\u001b[0;34m'id'\u001b[0m\u001b[0;34m,\u001b[0m \u001b[0;34m'title'\u001b[0m\u001b[0;34m,\u001b[0m \u001b[0;34m'cast'\u001b[0m\u001b[0;34m,\u001b[0m \u001b[0;34m'crew'\u001b[0m\u001b[0;34m]\u001b[0m\u001b[0;34m\u001b[0m\u001b[0;34m\u001b[0m\u001b[0m\n",
            "\u001b[0;32m/usr/local/lib/python3.7/dist-packages/pandas/io/parsers.py\u001b[0m in \u001b[0;36mread_csv\u001b[0;34m(filepath_or_buffer, sep, delimiter, header, names, index_col, usecols, squeeze, prefix, mangle_dupe_cols, dtype, engine, converters, true_values, false_values, skipinitialspace, skiprows, skipfooter, nrows, na_values, keep_default_na, na_filter, verbose, skip_blank_lines, parse_dates, infer_datetime_format, keep_date_col, date_parser, dayfirst, cache_dates, iterator, chunksize, compression, thousands, decimal, lineterminator, quotechar, quoting, doublequote, escapechar, comment, encoding, dialect, error_bad_lines, warn_bad_lines, delim_whitespace, low_memory, memory_map, float_precision)\u001b[0m\n\u001b[1;32m    686\u001b[0m     )\n\u001b[1;32m    687\u001b[0m \u001b[0;34m\u001b[0m\u001b[0m\n\u001b[0;32m--> 688\u001b[0;31m     \u001b[0;32mreturn\u001b[0m \u001b[0m_read\u001b[0m\u001b[0;34m(\u001b[0m\u001b[0mfilepath_or_buffer\u001b[0m\u001b[0;34m,\u001b[0m \u001b[0mkwds\u001b[0m\u001b[0;34m)\u001b[0m\u001b[0;34m\u001b[0m\u001b[0;34m\u001b[0m\u001b[0m\n\u001b[0m\u001b[1;32m    689\u001b[0m \u001b[0;34m\u001b[0m\u001b[0m\n\u001b[1;32m    690\u001b[0m \u001b[0;34m\u001b[0m\u001b[0m\n",
            "\u001b[0;32m/usr/local/lib/python3.7/dist-packages/pandas/io/parsers.py\u001b[0m in \u001b[0;36m_read\u001b[0;34m(filepath_or_buffer, kwds)\u001b[0m\n\u001b[1;32m    458\u001b[0m \u001b[0;34m\u001b[0m\u001b[0m\n\u001b[1;32m    459\u001b[0m     \u001b[0;32mtry\u001b[0m\u001b[0;34m:\u001b[0m\u001b[0;34m\u001b[0m\u001b[0;34m\u001b[0m\u001b[0m\n\u001b[0;32m--> 460\u001b[0;31m         \u001b[0mdata\u001b[0m \u001b[0;34m=\u001b[0m \u001b[0mparser\u001b[0m\u001b[0;34m.\u001b[0m\u001b[0mread\u001b[0m\u001b[0;34m(\u001b[0m\u001b[0mnrows\u001b[0m\u001b[0;34m)\u001b[0m\u001b[0;34m\u001b[0m\u001b[0;34m\u001b[0m\u001b[0m\n\u001b[0m\u001b[1;32m    461\u001b[0m     \u001b[0;32mfinally\u001b[0m\u001b[0;34m:\u001b[0m\u001b[0;34m\u001b[0m\u001b[0;34m\u001b[0m\u001b[0m\n\u001b[1;32m    462\u001b[0m         \u001b[0mparser\u001b[0m\u001b[0;34m.\u001b[0m\u001b[0mclose\u001b[0m\u001b[0;34m(\u001b[0m\u001b[0;34m)\u001b[0m\u001b[0;34m\u001b[0m\u001b[0;34m\u001b[0m\u001b[0m\n",
            "\u001b[0;32m/usr/local/lib/python3.7/dist-packages/pandas/io/parsers.py\u001b[0m in \u001b[0;36mread\u001b[0;34m(self, nrows)\u001b[0m\n\u001b[1;32m   1196\u001b[0m     \u001b[0;32mdef\u001b[0m \u001b[0mread\u001b[0m\u001b[0;34m(\u001b[0m\u001b[0mself\u001b[0m\u001b[0;34m,\u001b[0m \u001b[0mnrows\u001b[0m\u001b[0;34m=\u001b[0m\u001b[0;32mNone\u001b[0m\u001b[0;34m)\u001b[0m\u001b[0;34m:\u001b[0m\u001b[0;34m\u001b[0m\u001b[0;34m\u001b[0m\u001b[0m\n\u001b[1;32m   1197\u001b[0m         \u001b[0mnrows\u001b[0m \u001b[0;34m=\u001b[0m \u001b[0m_validate_integer\u001b[0m\u001b[0;34m(\u001b[0m\u001b[0;34m\"nrows\"\u001b[0m\u001b[0;34m,\u001b[0m \u001b[0mnrows\u001b[0m\u001b[0;34m)\u001b[0m\u001b[0;34m\u001b[0m\u001b[0;34m\u001b[0m\u001b[0m\n\u001b[0;32m-> 1198\u001b[0;31m         \u001b[0mret\u001b[0m \u001b[0;34m=\u001b[0m \u001b[0mself\u001b[0m\u001b[0;34m.\u001b[0m\u001b[0m_engine\u001b[0m\u001b[0;34m.\u001b[0m\u001b[0mread\u001b[0m\u001b[0;34m(\u001b[0m\u001b[0mnrows\u001b[0m\u001b[0;34m)\u001b[0m\u001b[0;34m\u001b[0m\u001b[0;34m\u001b[0m\u001b[0m\n\u001b[0m\u001b[1;32m   1199\u001b[0m \u001b[0;34m\u001b[0m\u001b[0m\n\u001b[1;32m   1200\u001b[0m         \u001b[0;31m# May alter columns / col_dict\u001b[0m\u001b[0;34m\u001b[0m\u001b[0;34m\u001b[0m\u001b[0;34m\u001b[0m\u001b[0m\n",
            "\u001b[0;32m/usr/local/lib/python3.7/dist-packages/pandas/io/parsers.py\u001b[0m in \u001b[0;36mread\u001b[0;34m(self, nrows)\u001b[0m\n\u001b[1;32m   2155\u001b[0m     \u001b[0;32mdef\u001b[0m \u001b[0mread\u001b[0m\u001b[0;34m(\u001b[0m\u001b[0mself\u001b[0m\u001b[0;34m,\u001b[0m \u001b[0mnrows\u001b[0m\u001b[0;34m=\u001b[0m\u001b[0;32mNone\u001b[0m\u001b[0;34m)\u001b[0m\u001b[0;34m:\u001b[0m\u001b[0;34m\u001b[0m\u001b[0;34m\u001b[0m\u001b[0m\n\u001b[1;32m   2156\u001b[0m         \u001b[0;32mtry\u001b[0m\u001b[0;34m:\u001b[0m\u001b[0;34m\u001b[0m\u001b[0;34m\u001b[0m\u001b[0m\n\u001b[0;32m-> 2157\u001b[0;31m             \u001b[0mdata\u001b[0m \u001b[0;34m=\u001b[0m \u001b[0mself\u001b[0m\u001b[0;34m.\u001b[0m\u001b[0m_reader\u001b[0m\u001b[0;34m.\u001b[0m\u001b[0mread\u001b[0m\u001b[0;34m(\u001b[0m\u001b[0mnrows\u001b[0m\u001b[0;34m)\u001b[0m\u001b[0;34m\u001b[0m\u001b[0;34m\u001b[0m\u001b[0m\n\u001b[0m\u001b[1;32m   2158\u001b[0m         \u001b[0;32mexcept\u001b[0m \u001b[0mStopIteration\u001b[0m\u001b[0;34m:\u001b[0m\u001b[0;34m\u001b[0m\u001b[0;34m\u001b[0m\u001b[0m\n\u001b[1;32m   2159\u001b[0m             \u001b[0;32mif\u001b[0m \u001b[0mself\u001b[0m\u001b[0;34m.\u001b[0m\u001b[0m_first_chunk\u001b[0m\u001b[0;34m:\u001b[0m\u001b[0;34m\u001b[0m\u001b[0;34m\u001b[0m\u001b[0m\n",
            "\u001b[0;32mpandas/_libs/parsers.pyx\u001b[0m in \u001b[0;36mpandas._libs.parsers.TextReader.read\u001b[0;34m()\u001b[0m\n",
            "\u001b[0;32mpandas/_libs/parsers.pyx\u001b[0m in \u001b[0;36mpandas._libs.parsers.TextReader._read_low_memory\u001b[0;34m()\u001b[0m\n",
            "\u001b[0;32mpandas/_libs/parsers.pyx\u001b[0m in \u001b[0;36mpandas._libs.parsers.TextReader._read_rows\u001b[0;34m()\u001b[0m\n",
            "\u001b[0;32mpandas/_libs/parsers.pyx\u001b[0m in \u001b[0;36mpandas._libs.parsers.TextReader._tokenize_rows\u001b[0;34m()\u001b[0m\n",
            "\u001b[0;32mpandas/_libs/parsers.pyx\u001b[0m in \u001b[0;36mpandas._libs.parsers.raise_parser_error\u001b[0;34m()\u001b[0m\n",
            "\u001b[0;31mParserError\u001b[0m: Error tokenizing data. C error: EOF inside string starting at row 1718"
          ]
        }
      ]
    },
    {
      "cell_type": "markdown",
      "metadata": {
        "id": "q_cuuqij9XrL"
      },
      "source": [
        "## Json格式欄位處理函數"
      ]
    },
    {
      "cell_type": "code",
      "metadata": {
        "id": "onq7r-OV9XrM"
      },
      "source": [
        "import warnings\n",
        "warnings.filterwarnings('ignore')\n",
        "\n",
        "# Trim dataset to include relevant features\n",
        "df = alldata[['id', 'original_title', 'genres', 'keywords', 'overview', 'original_language', 'cast', 'crew']]\n",
        "\n",
        "# Parse stringed list features into python objects\n",
        "features = ['keywords', 'genres', 'cast', 'crew']\n",
        "for i in features:\n",
        "    df[i] = alldata[i].apply(literal_eval)\n",
        "    \n",
        "# Extract list of genres\n",
        "def list_genres(x):\n",
        "    l = [d['name'] for d in x]\n",
        "    return(l)\n",
        "df['genres'] = df['genres'].apply(list_genres)\n",
        "\n",
        "# Extract top 3 cast members\n",
        "def list_cast(x):\n",
        "    l = [d['name'] for d in x]\n",
        "    if len(l) > 3:\n",
        "        l = l[:3]\n",
        "    return(l)\n",
        "df['cast'] = df['cast'].apply(list_cast)\n",
        "\n",
        "# Extract top 5 keywords\n",
        "def list_keywords(x):\n",
        "    l = [d['name'] for d in x]\n",
        "    if len(l) > 5:\n",
        "        l = l[:5]\n",
        "    return(l)\n",
        "df['keywords'] = df['keywords'].apply(list_keywords)\n",
        "\n",
        "# Extract director\n",
        "def get_director(x):\n",
        "    for i in x:\n",
        "        if i['job'] == 'Director':\n",
        "            return i['name']\n",
        "    return np.nan\n",
        "df['director'] = df['crew'].apply(get_director)\n",
        "\n",
        "# Drop the now unnecessary crew feature\n",
        "df = df.drop('crew', axis = 1)\n",
        "\n",
        "# Clean features of spaces and lowercase all to ensure uniques\n",
        "def clean_feat(x):\n",
        "    if isinstance(x, list):\n",
        "        return [i.lower().replace(\" \",\"\") for i in x]\n",
        "    else:\n",
        "        if isinstance(x, str):\n",
        "            return x.lower().replace(\" \", \"\")\n",
        "        else:\n",
        "            return ''"
      ],
      "execution_count": null,
      "outputs": []
    },
    {
      "cell_type": "markdown",
      "metadata": {
        "id": "gH8y8gIa9XrO"
      },
      "source": [
        "## Json格式欄位處理，找出關鍵字、風格、演員、導演"
      ]
    },
    {
      "cell_type": "code",
      "metadata": {
        "id": "dw3dBb0w9XrP",
        "outputId": "62cc2aeb-600b-4d34-d66a-aab5c79458ec"
      },
      "source": [
        "features = ['keywords', 'genres', 'cast', 'director']\n",
        "for i in features:\n",
        "    df[i] = df[i].apply(clean_feat)\n",
        "df.head()"
      ],
      "execution_count": null,
      "outputs": [
        {
          "output_type": "execute_result",
          "data": {
            "text/html": [
              "<div>\n",
              "<style scoped>\n",
              "    .dataframe tbody tr th:only-of-type {\n",
              "        vertical-align: middle;\n",
              "    }\n",
              "\n",
              "    .dataframe tbody tr th {\n",
              "        vertical-align: top;\n",
              "    }\n",
              "\n",
              "    .dataframe thead th {\n",
              "        text-align: right;\n",
              "    }\n",
              "</style>\n",
              "<table border=\"1\" class=\"dataframe\">\n",
              "  <thead>\n",
              "    <tr style=\"text-align: right;\">\n",
              "      <th></th>\n",
              "      <th>id</th>\n",
              "      <th>original_title</th>\n",
              "      <th>genres</th>\n",
              "      <th>keywords</th>\n",
              "      <th>overview</th>\n",
              "      <th>original_language</th>\n",
              "      <th>cast</th>\n",
              "      <th>director</th>\n",
              "    </tr>\n",
              "  </thead>\n",
              "  <tbody>\n",
              "    <tr>\n",
              "      <td>0</td>\n",
              "      <td>19995</td>\n",
              "      <td>Avatar</td>\n",
              "      <td>[action, adventure, fantasy, sciencefiction]</td>\n",
              "      <td>[cultureclash, future, spacewar, spacecolony, ...</td>\n",
              "      <td>In the 22nd century, a paraplegic Marine is di...</td>\n",
              "      <td>en</td>\n",
              "      <td>[samworthington, zoesaldana, sigourneyweaver]</td>\n",
              "      <td>jamescameron</td>\n",
              "    </tr>\n",
              "    <tr>\n",
              "      <td>1</td>\n",
              "      <td>285</td>\n",
              "      <td>Pirates of the Caribbean: At World's End</td>\n",
              "      <td>[adventure, fantasy, action]</td>\n",
              "      <td>[ocean, drugabuse, exoticisland, eastindiatrad...</td>\n",
              "      <td>Captain Barbossa, long believed to be dead, ha...</td>\n",
              "      <td>en</td>\n",
              "      <td>[johnnydepp, orlandobloom, keiraknightley]</td>\n",
              "      <td>goreverbinski</td>\n",
              "    </tr>\n",
              "    <tr>\n",
              "      <td>2</td>\n",
              "      <td>206647</td>\n",
              "      <td>Spectre</td>\n",
              "      <td>[action, adventure, crime]</td>\n",
              "      <td>[spy, basedonnovel, secretagent, sequel, mi6]</td>\n",
              "      <td>A cryptic message from Bond’s past sends him o...</td>\n",
              "      <td>en</td>\n",
              "      <td>[danielcraig, christophwaltz, léaseydoux]</td>\n",
              "      <td>sammendes</td>\n",
              "    </tr>\n",
              "    <tr>\n",
              "      <td>3</td>\n",
              "      <td>49026</td>\n",
              "      <td>The Dark Knight Rises</td>\n",
              "      <td>[action, crime, drama, thriller]</td>\n",
              "      <td>[dccomics, crimefighter, terrorist, secretiden...</td>\n",
              "      <td>Following the death of District Attorney Harve...</td>\n",
              "      <td>en</td>\n",
              "      <td>[christianbale, michaelcaine, garyoldman]</td>\n",
              "      <td>christophernolan</td>\n",
              "    </tr>\n",
              "    <tr>\n",
              "      <td>4</td>\n",
              "      <td>49529</td>\n",
              "      <td>John Carter</td>\n",
              "      <td>[action, adventure, sciencefiction]</td>\n",
              "      <td>[basedonnovel, mars, medallion, spacetravel, p...</td>\n",
              "      <td>John Carter is a war-weary, former military ca...</td>\n",
              "      <td>en</td>\n",
              "      <td>[taylorkitsch, lynncollins, samanthamorton]</td>\n",
              "      <td>andrewstanton</td>\n",
              "    </tr>\n",
              "  </tbody>\n",
              "</table>\n",
              "</div>"
            ],
            "text/plain": [
              "       id                            original_title  \\\n",
              "0   19995                                    Avatar   \n",
              "1     285  Pirates of the Caribbean: At World's End   \n",
              "2  206647                                   Spectre   \n",
              "3   49026                     The Dark Knight Rises   \n",
              "4   49529                               John Carter   \n",
              "\n",
              "                                         genres  \\\n",
              "0  [action, adventure, fantasy, sciencefiction]   \n",
              "1                  [adventure, fantasy, action]   \n",
              "2                    [action, adventure, crime]   \n",
              "3              [action, crime, drama, thriller]   \n",
              "4           [action, adventure, sciencefiction]   \n",
              "\n",
              "                                            keywords  \\\n",
              "0  [cultureclash, future, spacewar, spacecolony, ...   \n",
              "1  [ocean, drugabuse, exoticisland, eastindiatrad...   \n",
              "2      [spy, basedonnovel, secretagent, sequel, mi6]   \n",
              "3  [dccomics, crimefighter, terrorist, secretiden...   \n",
              "4  [basedonnovel, mars, medallion, spacetravel, p...   \n",
              "\n",
              "                                            overview original_language  \\\n",
              "0  In the 22nd century, a paraplegic Marine is di...                en   \n",
              "1  Captain Barbossa, long believed to be dead, ha...                en   \n",
              "2  A cryptic message from Bond’s past sends him o...                en   \n",
              "3  Following the death of District Attorney Harve...                en   \n",
              "4  John Carter is a war-weary, former military ca...                en   \n",
              "\n",
              "                                            cast          director  \n",
              "0  [samworthington, zoesaldana, sigourneyweaver]      jamescameron  \n",
              "1     [johnnydepp, orlandobloom, keiraknightley]     goreverbinski  \n",
              "2      [danielcraig, christophwaltz, léaseydoux]         sammendes  \n",
              "3      [christianbale, michaelcaine, garyoldman]  christophernolan  \n",
              "4    [taylorkitsch, lynncollins, samanthamorton]     andrewstanton  "
            ]
          },
          "metadata": {
            "tags": []
          },
          "execution_count": 7
        }
      ]
    },
    {
      "cell_type": "markdown",
      "metadata": {
        "id": "ru40GoIF9XrQ"
      },
      "source": [
        "## 去除遺漏值(Missing Value)"
      ]
    },
    {
      "cell_type": "code",
      "metadata": {
        "id": "XAjmGjr89XrQ",
        "outputId": "c740451f-e9be-4037-8eb4-8c42df5d5b1d"
      },
      "source": [
        "missing = df.columns[df.isnull().any()]\n",
        "df[missing].isnull().sum().to_frame()\n",
        "# Replace NaN from overview with an empty string\n",
        "df['overview'] = df['overview'].fillna('')\n",
        "df.head()"
      ],
      "execution_count": null,
      "outputs": [
        {
          "output_type": "execute_result",
          "data": {
            "text/html": [
              "<div>\n",
              "<style scoped>\n",
              "    .dataframe tbody tr th:only-of-type {\n",
              "        vertical-align: middle;\n",
              "    }\n",
              "\n",
              "    .dataframe tbody tr th {\n",
              "        vertical-align: top;\n",
              "    }\n",
              "\n",
              "    .dataframe thead th {\n",
              "        text-align: right;\n",
              "    }\n",
              "</style>\n",
              "<table border=\"1\" class=\"dataframe\">\n",
              "  <thead>\n",
              "    <tr style=\"text-align: right;\">\n",
              "      <th></th>\n",
              "      <th>id</th>\n",
              "      <th>original_title</th>\n",
              "      <th>genres</th>\n",
              "      <th>keywords</th>\n",
              "      <th>overview</th>\n",
              "      <th>original_language</th>\n",
              "      <th>cast</th>\n",
              "      <th>director</th>\n",
              "    </tr>\n",
              "  </thead>\n",
              "  <tbody>\n",
              "    <tr>\n",
              "      <td>0</td>\n",
              "      <td>19995</td>\n",
              "      <td>Avatar</td>\n",
              "      <td>[action, adventure, fantasy, sciencefiction]</td>\n",
              "      <td>[cultureclash, future, spacewar, spacecolony, ...</td>\n",
              "      <td>In the 22nd century, a paraplegic Marine is di...</td>\n",
              "      <td>en</td>\n",
              "      <td>[samworthington, zoesaldana, sigourneyweaver]</td>\n",
              "      <td>jamescameron</td>\n",
              "    </tr>\n",
              "    <tr>\n",
              "      <td>1</td>\n",
              "      <td>285</td>\n",
              "      <td>Pirates of the Caribbean: At World's End</td>\n",
              "      <td>[adventure, fantasy, action]</td>\n",
              "      <td>[ocean, drugabuse, exoticisland, eastindiatrad...</td>\n",
              "      <td>Captain Barbossa, long believed to be dead, ha...</td>\n",
              "      <td>en</td>\n",
              "      <td>[johnnydepp, orlandobloom, keiraknightley]</td>\n",
              "      <td>goreverbinski</td>\n",
              "    </tr>\n",
              "    <tr>\n",
              "      <td>2</td>\n",
              "      <td>206647</td>\n",
              "      <td>Spectre</td>\n",
              "      <td>[action, adventure, crime]</td>\n",
              "      <td>[spy, basedonnovel, secretagent, sequel, mi6]</td>\n",
              "      <td>A cryptic message from Bond’s past sends him o...</td>\n",
              "      <td>en</td>\n",
              "      <td>[danielcraig, christophwaltz, léaseydoux]</td>\n",
              "      <td>sammendes</td>\n",
              "    </tr>\n",
              "    <tr>\n",
              "      <td>3</td>\n",
              "      <td>49026</td>\n",
              "      <td>The Dark Knight Rises</td>\n",
              "      <td>[action, crime, drama, thriller]</td>\n",
              "      <td>[dccomics, crimefighter, terrorist, secretiden...</td>\n",
              "      <td>Following the death of District Attorney Harve...</td>\n",
              "      <td>en</td>\n",
              "      <td>[christianbale, michaelcaine, garyoldman]</td>\n",
              "      <td>christophernolan</td>\n",
              "    </tr>\n",
              "    <tr>\n",
              "      <td>4</td>\n",
              "      <td>49529</td>\n",
              "      <td>John Carter</td>\n",
              "      <td>[action, adventure, sciencefiction]</td>\n",
              "      <td>[basedonnovel, mars, medallion, spacetravel, p...</td>\n",
              "      <td>John Carter is a war-weary, former military ca...</td>\n",
              "      <td>en</td>\n",
              "      <td>[taylorkitsch, lynncollins, samanthamorton]</td>\n",
              "      <td>andrewstanton</td>\n",
              "    </tr>\n",
              "  </tbody>\n",
              "</table>\n",
              "</div>"
            ],
            "text/plain": [
              "       id                            original_title  \\\n",
              "0   19995                                    Avatar   \n",
              "1     285  Pirates of the Caribbean: At World's End   \n",
              "2  206647                                   Spectre   \n",
              "3   49026                     The Dark Knight Rises   \n",
              "4   49529                               John Carter   \n",
              "\n",
              "                                         genres  \\\n",
              "0  [action, adventure, fantasy, sciencefiction]   \n",
              "1                  [adventure, fantasy, action]   \n",
              "2                    [action, adventure, crime]   \n",
              "3              [action, crime, drama, thriller]   \n",
              "4           [action, adventure, sciencefiction]   \n",
              "\n",
              "                                            keywords  \\\n",
              "0  [cultureclash, future, spacewar, spacecolony, ...   \n",
              "1  [ocean, drugabuse, exoticisland, eastindiatrad...   \n",
              "2      [spy, basedonnovel, secretagent, sequel, mi6]   \n",
              "3  [dccomics, crimefighter, terrorist, secretiden...   \n",
              "4  [basedonnovel, mars, medallion, spacetravel, p...   \n",
              "\n",
              "                                            overview original_language  \\\n",
              "0  In the 22nd century, a paraplegic Marine is di...                en   \n",
              "1  Captain Barbossa, long believed to be dead, ha...                en   \n",
              "2  A cryptic message from Bond’s past sends him o...                en   \n",
              "3  Following the death of District Attorney Harve...                en   \n",
              "4  John Carter is a war-weary, former military ca...                en   \n",
              "\n",
              "                                            cast          director  \n",
              "0  [samworthington, zoesaldana, sigourneyweaver]      jamescameron  \n",
              "1     [johnnydepp, orlandobloom, keiraknightley]     goreverbinski  \n",
              "2      [danielcraig, christophwaltz, léaseydoux]         sammendes  \n",
              "3      [christianbale, michaelcaine, garyoldman]  christophernolan  \n",
              "4    [taylorkitsch, lynncollins, samanthamorton]     andrewstanton  "
            ]
          },
          "metadata": {
            "tags": []
          },
          "execution_count": 10
        }
      ]
    },
    {
      "cell_type": "markdown",
      "metadata": {
        "id": "duGlAHy79XrR"
      },
      "source": [
        "## BOW(bag of keywords)"
      ]
    },
    {
      "cell_type": "markdown",
      "metadata": {
        "id": "7mAIy17B9XrR"
      },
      "source": [
        "## 找出關鍵字"
      ]
    },
    {
      "cell_type": "code",
      "metadata": {
        "id": "-4Pk1vwn9XrS"
      },
      "source": [
        "# Initialize empty column\n",
        "df['plotwords'] = ''\n",
        "\n",
        "# function to get keywords from a text\n",
        "def get_keywords(x):\n",
        "    plot = x\n",
        "    \n",
        "    # initialize Rake using english stopwords from NLTK, and all punctuation characters\n",
        "    rake = Rake()\n",
        "    \n",
        "    # extract keywords from text\n",
        "    # https://pypi.org/project/rake-nltk/\n",
        "    rake.extract_keywords_from_text(plot)\n",
        "    \n",
        "    # get dictionary with keywords and scores\n",
        "    scores = rake.get_word_degrees()\n",
        "    \n",
        "    # return new keywords as list, ignoring scores\n",
        "    return(list(scores.keys()))\n",
        "\n",
        "# Apply function to generate keywords\n",
        "df['plotwords'] = df['overview'].apply(get_keywords)"
      ],
      "execution_count": null,
      "outputs": []
    },
    {
      "cell_type": "markdown",
      "metadata": {
        "id": "kgWVvVBp9XrS"
      },
      "source": [
        "## 自關鍵字、風格、演員、導演欄位找出重要的單字"
      ]
    },
    {
      "cell_type": "code",
      "metadata": {
        "id": "HAOGGZ2h9XrU",
        "outputId": "4747328d-5cfd-4fd0-99ba-97b416918751"
      },
      "source": [
        "df_keys = pd.DataFrame() \n",
        "\n",
        "df_keys['title'] = df['original_title']\n",
        "df_keys['keywords'] = ''\n",
        "\n",
        "def bag_words(x):\n",
        "    return(' '.join(x['genres']) + ' ' + ' '.join(x['keywords']) + ' ' +  ' '.join(x['cast']) + \n",
        "           ' ' + ' '.join(x['director']) + ' ' + ' '.join(x['plotwords']))\n",
        "df_keys['keywords'] = df.apply(bag_words, axis = 1)\n",
        "\n",
        "df_keys.head()"
      ],
      "execution_count": null,
      "outputs": [
        {
          "output_type": "execute_result",
          "data": {
            "text/html": [
              "<div>\n",
              "<style scoped>\n",
              "    .dataframe tbody tr th:only-of-type {\n",
              "        vertical-align: middle;\n",
              "    }\n",
              "\n",
              "    .dataframe tbody tr th {\n",
              "        vertical-align: top;\n",
              "    }\n",
              "\n",
              "    .dataframe thead th {\n",
              "        text-align: right;\n",
              "    }\n",
              "</style>\n",
              "<table border=\"1\" class=\"dataframe\">\n",
              "  <thead>\n",
              "    <tr style=\"text-align: right;\">\n",
              "      <th></th>\n",
              "      <th>title</th>\n",
              "      <th>keywords</th>\n",
              "    </tr>\n",
              "  </thead>\n",
              "  <tbody>\n",
              "    <tr>\n",
              "      <td>0</td>\n",
              "      <td>Avatar</td>\n",
              "      <td>action adventure fantasy sciencefiction cultur...</td>\n",
              "    </tr>\n",
              "    <tr>\n",
              "      <td>1</td>\n",
              "      <td>Pirates of the Caribbean: At World's End</td>\n",
              "      <td>adventure fantasy action ocean drugabuse exoti...</td>\n",
              "    </tr>\n",
              "    <tr>\n",
              "      <td>2</td>\n",
              "      <td>Spectre</td>\n",
              "      <td>action adventure crime spy basedonnovel secret...</td>\n",
              "    </tr>\n",
              "    <tr>\n",
              "      <td>3</td>\n",
              "      <td>The Dark Knight Rises</td>\n",
              "      <td>action crime drama thriller dccomics crimefigh...</td>\n",
              "    </tr>\n",
              "    <tr>\n",
              "      <td>4</td>\n",
              "      <td>John Carter</td>\n",
              "      <td>action adventure sciencefiction basedonnovel m...</td>\n",
              "    </tr>\n",
              "  </tbody>\n",
              "</table>\n",
              "</div>"
            ],
            "text/plain": [
              "                                      title  \\\n",
              "0                                    Avatar   \n",
              "1  Pirates of the Caribbean: At World's End   \n",
              "2                                   Spectre   \n",
              "3                     The Dark Knight Rises   \n",
              "4                               John Carter   \n",
              "\n",
              "                                            keywords  \n",
              "0  action adventure fantasy sciencefiction cultur...  \n",
              "1  adventure fantasy action ocean drugabuse exoti...  \n",
              "2  action adventure crime spy basedonnovel secret...  \n",
              "3  action crime drama thriller dccomics crimefigh...  \n",
              "4  action adventure sciencefiction basedonnovel m...  "
            ]
          },
          "metadata": {
            "tags": []
          },
          "execution_count": 12
        }
      ]
    },
    {
      "cell_type": "markdown",
      "metadata": {
        "id": "cBoEGQeb9XrV"
      },
      "source": [
        "## 使用 BOW，將每一部電影的文字內容，轉成詞向量"
      ]
    },
    {
      "cell_type": "code",
      "metadata": {
        "id": "lE6HC_qN9XrW"
      },
      "source": [
        "# 將文件中的詞語轉換為詞頻矩陣\n",
        "cv = CountVectorizer()\n",
        "# 計算個詞語出現的次數\n",
        "cv_mx = cv.fit_transform(df_keys['keywords'])"
      ],
      "execution_count": null,
      "outputs": []
    },
    {
      "cell_type": "markdown",
      "metadata": {
        "id": "XSvDW9069XrZ"
      },
      "source": [
        "## 計算相似性(cosine similarity)"
      ]
    },
    {
      "cell_type": "code",
      "metadata": {
        "id": "KEglg-HW9Xra",
        "outputId": "c18a45db-fd0d-4327-c074-d064a88a8606"
      },
      "source": [
        "# create cosine similarity matrix\n",
        "cosine_sim = cosine_similarity(cv_mx, cv_mx)\n",
        "cosine_sim"
      ],
      "execution_count": null,
      "outputs": [
        {
          "output_type": "execute_result",
          "data": {
            "text/plain": [
              "array([[1.        , 0.10527936, 0.06299408, ..., 0.        , 0.        ,\n",
              "        0.        ],\n",
              "       [0.10527936, 1.        , 0.09284767, ..., 0.02438299, 0.        ,\n",
              "        0.        ],\n",
              "       [0.06299408, 0.09284767, 1.        , ..., 0.02188441, 0.        ,\n",
              "        0.        ],\n",
              "       ...,\n",
              "       [0.        , 0.02438299, 0.02188441, ..., 1.        , 0.05938557,\n",
              "        0.03959038],\n",
              "       [0.        , 0.        , 0.        , ..., 0.05938557, 1.        ,\n",
              "        0.06818182],\n",
              "       [0.        , 0.        , 0.        , ..., 0.03959038, 0.06818182,\n",
              "        1.        ]])"
            ]
          },
          "metadata": {
            "tags": []
          },
          "execution_count": 14
        }
      ]
    },
    {
      "cell_type": "markdown",
      "metadata": {
        "id": "fJQ1iQTF9Xre"
      },
      "source": [
        "## 建立電影名稱與列索引對照表，以利查詢"
      ]
    },
    {
      "cell_type": "code",
      "metadata": {
        "id": "9RmHHHjt9Xrg"
      },
      "source": [
        "# create list of indices for later matching\n",
        "indices = pd.Series(df_keys.index, index = df_keys['title'])"
      ],
      "execution_count": null,
      "outputs": []
    },
    {
      "cell_type": "markdown",
      "metadata": {
        "id": "vyXl1MfN9Xrh"
      },
      "source": [
        "## 推薦(Recommendation) 處理函數，輸入參數為電影名稱，輸出為前N名相似的電影"
      ]
    },
    {
      "cell_type": "code",
      "metadata": {
        "id": "oZHpSe5Z9Xrh"
      },
      "source": [
        "def recommend_movie(title, n = 10, cosine_sim = cosine_sim):\n",
        "    movies = []\n",
        "    \n",
        "    # retrieve matching movie title index\n",
        "    if title not in indices.index:\n",
        "        print(\"Movie not in database.\")\n",
        "        return\n",
        "    else:\n",
        "        idx = indices[title]\n",
        "    \n",
        "    # cosine similarity scores of movies in descending order\n",
        "    scores = pd.Series(cosine_sim[idx]).sort_values(ascending = False)\n",
        "    \n",
        "    # top n most similar movies indexes\n",
        "    # use 1:n because 0 is the same movie entered\n",
        "    top_n_idx = list(scores.iloc[1:n].index)\n",
        "        \n",
        "    return df_keys['title'].iloc[top_n_idx]"
      ],
      "execution_count": null,
      "outputs": []
    },
    {
      "cell_type": "markdown",
      "metadata": {
        "id": "6nM6ueXG9Xri"
      },
      "source": [
        "## 測試：找出Toy Story這部電影的前5部最相似的電影"
      ]
    },
    {
      "cell_type": "code",
      "metadata": {
        "id": "Vxm8ZN-P9Xrj",
        "outputId": "77fcfed6-6f5a-40c4-9ef7-cf7b3d4424e2"
      },
      "source": [
        "recommend_movie('Toy Story', n = 5)"
      ],
      "execution_count": null,
      "outputs": [
        {
          "output_type": "execute_result",
          "data": {
            "text/plain": [
              "343        Toy Story 2\n",
              "42         Toy Story 3\n",
              "221    Stuart Little 2\n",
              "837         Free Birds\n",
              "Name: title, dtype: object"
            ]
          },
          "metadata": {
            "tags": []
          },
          "execution_count": 17
        }
      ]
    },
    {
      "cell_type": "markdown",
      "metadata": {
        "id": "RAVNNuYi9Xrk"
      },
      "source": [
        "## 測試：找出The Avengers這部電影的前10部最相似的電影"
      ]
    },
    {
      "cell_type": "code",
      "metadata": {
        "id": "Jg6Cz9Gt9Xrk",
        "outputId": "366dbdaa-bb4e-43ba-9982-3ccae1da0a87"
      },
      "source": [
        "recommend_movie('The Avengers')"
      ],
      "execution_count": null,
      "outputs": [
        {
          "output_type": "execute_result",
          "data": {
            "text/plain": [
              "7                  Avengers: Age of Ultron\n",
              "174                    The Incredible Hulk\n",
              "511                                  X-Men\n",
              "85     Captain America: The Winter Soldier\n",
              "79                              Iron Man 2\n",
              "26              Captain America: Civil War\n",
              "169     Captain America: The First Avenger\n",
              "31                              Iron Man 3\n",
              "68                                Iron Man\n",
              "Name: title, dtype: object"
            ]
          },
          "metadata": {
            "tags": []
          },
          "execution_count": 19
        }
      ]
    },
    {
      "cell_type": "code",
      "metadata": {
        "id": "a06BYaBq9Xrl"
      },
      "source": [
        ""
      ],
      "execution_count": null,
      "outputs": []
    }
  ]
}
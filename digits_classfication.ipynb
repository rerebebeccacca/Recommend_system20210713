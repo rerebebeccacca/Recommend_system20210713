{
  "nbformat": 4,
  "nbformat_minor": 0,
  "metadata": {
    "kernelspec": {
      "display_name": "Python 3",
      "language": "python",
      "name": "python3"
    },
    "language_info": {
      "codemirror_mode": {
        "name": "ipython",
        "version": 3
      },
      "file_extension": ".py",
      "mimetype": "text/x-python",
      "name": "python",
      "nbconvert_exporter": "python",
      "pygments_lexer": "ipython3",
      "version": "3.6.7"
    },
    "colab": {
      "name": "digits_classfication.ipynb",
      "provenance": [],
      "include_colab_link": true
    }
  },
  "cells": [
    {
      "cell_type": "markdown",
      "metadata": {
        "id": "view-in-github",
        "colab_type": "text"
      },
      "source": [
        "<a href=\"https://colab.research.google.com/github/rerebebeccacca/Recommend_system20210713/blob/main/digits_classfication.ipynb\" target=\"_parent\"><img src=\"https://colab.research.google.com/assets/colab-badge.svg\" alt=\"Open In Colab\"/></a>"
      ]
    },
    {
      "cell_type": "markdown",
      "metadata": {
        "id": "cQPg_S4KA1dz"
      },
      "source": [
        "利用 make_classification 建立模擬資料\n",
        "利用 sklearn.datasets.load_digits() 來讀取內建資料庫\n",
        "用線性的SVC來做分類，以8x8的影像之像素值來當作特徵(共64個特徵)\n",
        "用 metrics.classification_report 來提供辨識報表"
      ]
    },
    {
      "cell_type": "code",
      "metadata": {
        "id": "KnZUFvAdA1d0"
      },
      "source": [
        "import matplotlib.pyplot as plt\n",
        "from sklearn import datasets, svm, metrics\n",
        "\n",
        "# The digits dataset\n",
        "digits = datasets.load_digits()"
      ],
      "execution_count": null,
      "outputs": []
    },
    {
      "cell_type": "markdown",
      "metadata": {
        "id": "JG8FrnYQA1d2"
      },
      "source": [
        "觀察資料檔，每張影像所對照的實際數字存在digits.target變數中"
      ]
    },
    {
      "cell_type": "code",
      "metadata": {
        "id": "boja8E6gA1d3",
        "outputId": "4098ab4e-80dd-4320-c5df-e081e9c12820"
      },
      "source": [
        "images_and_labels = list(zip(digits.images, digits.target))\n",
        "for index, (image, label) in enumerate(images_and_labels[:4]):\n",
        "    plt.subplot(2, 4, index + 1)\n",
        "    plt.axis('off')\n",
        "    plt.imshow(image, cmap=plt.cm.gray_r, interpolation='nearest')\n",
        "    plt.title('Training: %i' % label)"
      ],
      "execution_count": null,
      "outputs": [
        {
          "output_type": "display_data",
          "data": {
            "image/png": "[encoded data removed]",
            "text/plain": [
              "<Figure size 432x288 with 4 Axes>"
            ]
          },
          "metadata": {
            "tags": [],
            "needs_background": "light"
          }
        }
      ]
    },
    {
      "cell_type": "markdown",
      "metadata": {
        "id": "XecJQ-zcA1d4"
      },
      "source": [
        "使用reshape指令將8x8的影像資料攤平成64x1的矩陣。 接著用classifier = svm.SVC(gamma=0.001)產生一個SVC分類器(Support Vector Classification)。再將一半的資料送入分類器來訓練classifier.fit(資料:898x64, 分類目標:898x1)。SVC之預設kernel function為RBF (radial basis function): $$\\exp(-\\gamma |x-x'|^2)$$. 其中SVC(gamma=0.001)就是在設定RBF函數裏的$$\\gamma$$ 這個值必需要大於零。最後，再利用後半部份的資料來測試訓練完成之SVC分類機predict(data[n_samples / 2:])將預測結果存入predicted變數，而原先的真實目標資料則存於expected變數，用於下一節之準確度統計。"
      ]
    },
    {
      "cell_type": "code",
      "metadata": {
        "id": "FTtbZlY0A1d4"
      },
      "source": [
        "n_samples = len(digits.images)\n",
        "\n",
        "# 資料攤平:1797 x 8 x 8 -> 1797 x 64\n",
        "# 這裏的-1代表自動計算，相當於 (n_samples, 64)\n",
        "data = digits.images.reshape((n_samples, -1))\n",
        "\n",
        "# 產生SVC分類器\n",
        "classifier = svm.SVC(gamma=0.001)\n",
        "\n",
        "# 用前半部份的資料來訓練\n",
        "classifier.fit(data[:n_samples // 2], digits.target[:n_samples // 2])\n",
        "\n",
        "expected = digits.target[n_samples // 2:]\n",
        "\n",
        "#利用後半部份的資料來測試分類器，共 899筆資料\n",
        "predicted = classifier.predict(data[n_samples // 2:])"
      ],
      "execution_count": null,
      "outputs": []
    },
    {
      "cell_type": "markdown",
      "metadata": {
        "id": "uQVtCQJvA1d4"
      },
      "source": [
        "分類準確度統計:\n",
        "那在判斷準確度方面，我們可以使用一個名為「混淆矩陣」(Confusion matrix)的方式來統計。"
      ]
    },
    {
      "cell_type": "code",
      "metadata": {
        "id": "j5avKcp-A1d5",
        "outputId": "054b663c-f226-485b-9cdc-e6d699c415d1"
      },
      "source": [
        "print(\"Confusion matrix:\\n%s\"\n",
        "    % metrics.confusion_matrix(expected, predicted))"
      ],
      "execution_count": null,
      "outputs": [
        {
          "output_type": "stream",
          "text": [
            "Confusion matrix:\n",
            "[[87  0  0  0  1  0  0  0  0  0]\n",
            " [ 0 88  1  0  0  0  0  0  1  1]\n",
            " [ 0  0 85  1  0  0  0  0  0  0]\n",
            " [ 0  0  0 79  0  3  0  4  5  0]\n",
            " [ 0  0  0  0 88  0  0  0  0  4]\n",
            " [ 0  0  0  0  0 88  1  0  0  2]\n",
            " [ 0  1  0  0  0  0 90  0  0  0]\n",
            " [ 0  0  0  0  0  1  0 88  0  0]\n",
            " [ 0  0  0  0  0  0  0  0 88  0]\n",
            " [ 0  0  0  1  0  1  0  0  0 90]]\n"
          ],
          "name": "stdout"
        }
      ]
    },
    {
      "cell_type": "code",
      "metadata": {
        "id": "auV0LH5WA1d5",
        "outputId": "cb833259-6516-483c-fc35-17a3bbf5982b"
      },
      "source": [
        "def plot_confusion_matrix(cm, title='Confusion matrix', cmap=plt.cm.Blues):\n",
        "    import numpy as np\n",
        "    plt.imshow(cm, interpolation='nearest', cmap=cmap)\n",
        "    plt.title(title)\n",
        "    plt.colorbar()\n",
        "    tick_marks = np.arange(len(digits.target_names))\n",
        "    plt.xticks(tick_marks, digits.target_names, rotation=45)\n",
        "    plt.yticks(tick_marks, digits.target_names)\n",
        "    plt.tight_layout()\n",
        "    plt.ylabel('True label')\n",
        "    plt.xlabel('Predicted label')\n",
        "\n",
        "plt.figure()\n",
        "plot_confusion_matrix(metrics.confusion_matrix(expected, predicted))"
      ],
      "execution_count": null,
      "outputs": [
        {
          "output_type": "display_data",
          "data": {
            "image/png": "[encoded data removed]",
            "text/plain": [
              "<Figure size 432x288 with 2 Axes>"
            ]
          },
          "metadata": {
            "tags": [],
            "needs_background": "light"
          }
        }
      ]
    },
    {
      "cell_type": "markdown",
      "metadata": {
        "id": "LB9n5IkHA1d6"
      },
      "source": [
        "以手寫影像3為例，我們可以用四個數字來探討判斷的精準度。\n",
        "True Positive(TP,真陽):實際為3且判斷為3，共79個\n",
        "False Positive(FP,偽陽):判斷為3但判斷錯誤，共2個\n",
        "False Negative(FN,偽陰):實際為3但判斷錯誤，共12個\n",
        "True Negative(TN,真陰):實際不為3，且判斷正確。也就是其餘899-79-2-12=885個\n",
        "而在機器學習理論中，我們通常用以下precision, recall, f1-score來探討精確度。以手寫影像3為例。\n",
        "precision = TP/(TP+FP) = 79/81 = 0.98\n",
        "判斷為3且實際為3的比例為0.98\n",
        "recall = TP/(TP+FN) = 79/91 = 0.87\n",
        "實際為3且判斷為3的比例為0.87\n",
        "f1-score 則為以上兩者之「harmonic mean 調和平均數」\n",
        "f1-score= 2 x precision x recall/(recision + recall) = 0.92"
      ]
    },
    {
      "cell_type": "code",
      "metadata": {
        "id": "w9rQ15QtA1d6",
        "outputId": "2e78f85e-8ade-489a-ee90-d26bbe6ad2dc"
      },
      "source": [
        "print(\"Classification report for classifier %s:\\n%s\\n\"\n",
        "    % (classifier, metrics.classification_report(expected, predicted)))"
      ],
      "execution_count": null,
      "outputs": [
        {
          "output_type": "stream",
          "text": [
            "Classification report for classifier SVC(C=1.0, cache_size=200, class_weight=None, coef0=0.0,\n",
            "  decision_function_shape='ovr', degree=3, gamma=0.001, kernel='rbf',\n",
            "  max_iter=-1, probability=False, random_state=None, shrinking=True,\n",
            "  tol=0.001, verbose=False):\n",
            "              precision    recall  f1-score   support\n",
            "\n",
            "           0       1.00      0.99      0.99        88\n",
            "           1       0.99      0.97      0.98        91\n",
            "           2       0.99      0.99      0.99        86\n",
            "           3       0.98      0.87      0.92        91\n",
            "           4       0.99      0.96      0.97        92\n",
            "           5       0.95      0.97      0.96        91\n",
            "           6       0.99      0.99      0.99        91\n",
            "           7       0.96      0.99      0.97        89\n",
            "           8       0.94      1.00      0.97        88\n",
            "           9       0.93      0.98      0.95        92\n",
            "\n",
            "   micro avg       0.97      0.97      0.97       899\n",
            "   macro avg       0.97      0.97      0.97       899\n",
            "weighted avg       0.97      0.97      0.97       899\n",
            "\n",
            "\n"
          ],
          "name": "stdout"
        }
      ]
    },
    {
      "cell_type": "markdown",
      "metadata": {
        "id": "P92ZBlprA1d7"
      },
      "source": [
        "此報表最後的 support，則代表著實際為手寫數字的總數。例如實際為3的數字共有91個。"
      ]
    },
    {
      "cell_type": "markdown",
      "metadata": {
        "id": "nK__P6F4A1d7"
      },
      "source": [
        "用以下的程式碼可以觀察測試影像以及預測(分類)結果得對應關係"
      ]
    },
    {
      "cell_type": "code",
      "metadata": {
        "id": "7VRMOf0YA1d7",
        "outputId": "1c80e302-52aa-4419-fc17-d42f28ad41d2"
      },
      "source": [
        "images_and_predictions = list(\n",
        "                        zip(digits.images[n_samples // 2:], predicted))\n",
        "for index, (image, prediction) in enumerate(images_and_predictions[:4]):\n",
        "    plt.subplot(2, 4, index + 5)\n",
        "    plt.axis('off')\n",
        "    plt.imshow(image, cmap=plt.cm.gray_r, interpolation='nearest')\n",
        "    plt.title('Prediction: %i' % prediction)\n",
        "\n",
        "plt.show()"
      ],
      "execution_count": null,
      "outputs": [
        {
          "output_type": "display_data",
          "data": {
            "image/png": "[encoded data removed]",
            "text/plain": [
              "<Figure size 432x288 with 4 Axes>"
            ]
          },
          "metadata": {
            "tags": [],
            "needs_background": "light"
          }
        }
      ]
    }
  ]
}